{
 "cells": [
  {
   "cell_type": "markdown",
   "metadata": {},
   "source": [
    "### PCA with solar twin abundances\n",
    "\n",
    "The beginnings of this work were done by DWH, originally in the [zinc-robot](https://github.com/megbedell/zinc-robot) repo."
   ]
  },
  {
   "cell_type": "code",
   "execution_count": 21,
   "metadata": {
    "collapsed": true
   },
   "outputs": [],
   "source": [
    "import numpy as np\n",
    "import matplotlib.pyplot as plt\n",
    "from matplotlib import cm as cm\n",
    "from astropy.table import Table\n",
    "np.random.seed(42)\n",
    "% matplotlib inline"
   ]
  },
  {
   "cell_type": "code",
   "execution_count": 22,
   "metadata": {
    "collapsed": false
   },
   "outputs": [],
   "source": [
    "# Read data\n",
    "originaldata = Table.read('../data/star_data.fits', format='fits')\n",
    "sp_names = np.asarray(['CI', 'CH', 'OI', 'NaI', 'MgI', 'AlI', 'SiI', 'SI', 'CaI', 'ScI',\n",
    "       'ScII', 'TiI', 'TiII', 'VI', 'CrI', 'CrII', 'MnI', 'CoI', 'NiI',\n",
    "       'CuI', 'ZnI', 'SrI', 'YII', 'ZrII', 'BaII', 'LaII', 'CeII', 'PrII',\n",
    "       'NdII', 'SmII', 'EuII', 'GdII', 'DyII'])\n",
    "sp_err_names = np.asarray([\"{}_err\".format(spn) for spn in sp_names])"
   ]
  },
  {
   "cell_type": "code",
   "execution_count": 23,
   "metadata": {
    "collapsed": false
   },
   "outputs": [
    {
     "data": {
      "text/plain": [
       "array(['[ CI / Fe ]', '[ CH / Fe ]', '[ OI / Fe ]', '[ NaI / Fe ]',\n",
       "       '[ MgI / Fe ]', '[ AlI / Fe ]', '[ SiI / Fe ]', '[ SI / Fe ]',\n",
       "       '[ CaI / Fe ]', '[ ScI / Fe ]', '[ ScII / Fe ]', '[ TiI / Fe ]',\n",
       "       '[ TiII / Fe ]', '[ VI / Fe ]', '[ CrI / Fe ]', '[ CrII / Fe ]',\n",
       "       '[ MnI / Fe ]', '[ CoI / Fe ]', '[ NiI / Fe ]', '[ CuI / Fe ]',\n",
       "       '[ ZnI / Fe ]', '[ SrI / Fe ]', '[ YII / Fe ]', '[ ZrII / Fe ]',\n",
       "       '[ BaII / Fe ]', '[ LaII / Fe ]', '[ CeII / Fe ]', '[ PrII / Fe ]',\n",
       "       '[ NdII / Fe ]', '[ SmII / Fe ]', '[ EuII / Fe ]', '[ GdII / Fe ]',\n",
       "       '[ DyII / Fe ]'], dtype='<U13')"
      ]
     },
     "execution_count": 23,
     "metadata": {},
     "output_type": "execute_result"
    }
   ],
   "source": [
    "# Make plot labels\n",
    "labels = np.asarray([\"[ {} / Fe ]\".format(spn) for spn in sp_names])\n",
    "labels"
   ]
  },
  {
   "cell_type": "code",
   "execution_count": 24,
   "metadata": {
    "collapsed": false
   },
   "outputs": [],
   "source": [
    "# make rectangular data                                                                                          \n",
    "N = len(originaldata) # will be over-written\n",
    "D = len(sp_names)\n",
    "data = np.zeros((N, D))\n",
    "data_err = np.zeros((N, D))\n",
    "for d, (spn, spne) in enumerate(zip(sp_names, sp_err_names)):\n",
    "    data[:, d] = originaldata[spn] # \"log\" b/c these are logarithmic abundances\n",
    "    data_err[:, d] = originaldata[spne]"
   ]
  },
  {
   "cell_type": "code",
   "execution_count": 25,
   "metadata": {
    "collapsed": false
   },
   "outputs": [],
   "source": [
    "# FOR NOW: remove one bad object -- HACK\n",
    "good = np.isfinite(data)\n",
    "bad = ~good\n",
    "mask = np.sum(bad, axis=1) == 0\n",
    "data = data[mask] # remove one star with one missing abundance\n",
    "data_err = data_err[mask]\n",
    "N, D = data.shape # over-write"
   ]
  },
  {
   "cell_type": "markdown",
   "metadata": {},
   "source": [
    "<span style=\"color:red\">Question: the Sun is still in this data cube. should it be removed?</span>"
   ]
  },
  {
   "cell_type": "code",
   "execution_count": 26,
   "metadata": {
    "collapsed": true
   },
   "outputs": [],
   "source": [
    "# make fake data with no structure\n",
    "mean = np.mean(data, axis=0)\n",
    "data_fake = mean[None, :] + np.random.normal(size=(N, D)) * data_err"
   ]
  },
  {
   "cell_type": "code",
   "execution_count": 27,
   "metadata": {
    "collapsed": false
   },
   "outputs": [
    {
     "data": {
      "text/plain": [
       "Text(0,0.5,'CH')"
      ]
     },
     "execution_count": 27,
     "metadata": {},
     "output_type": "execute_result"
    },
    {
     "data": {
      "image/png": "[encoded data removed]",
      "text/plain": [
       "<Figure size 432x288 with 1 Axes>"
      ]
     },
     "metadata": {},
     "output_type": "display_data"
    },
    {
     "data": {
      "image/png": "[encoded data removed]",
      "text/plain": [
       "<Figure size 432x288 with 1 Axes>"
      ]
     },
     "metadata": {},
     "output_type": "display_data"
    }
   ],
   "source": [
    "i, j = 0, 1\n",
    "plt.scatter(data[:, i], data[:, j])\n",
    "plt.xlabel(sp_names[i])\n",
    "plt.ylabel(sp_names[j])\n",
    "plt.figure()\n",
    "plt.scatter(data_fake[:, i], data_fake[:, j])\n",
    "plt.xlabel(sp_names[i])\n",
    "plt.ylabel(sp_names[j])"
   ]
  },
  {
   "cell_type": "code",
   "execution_count": 28,
   "metadata": {
    "collapsed": false
   },
   "outputs": [],
   "source": [
    "def pca(data):\n",
    "    mean = np.mean(data, axis=0)\n",
    "    dd = data - mean[None, :]\n",
    "    u, s, vecs = np.linalg.svd(dd, full_matrices=False)\n",
    "    amps = u * s[None, :]\n",
    "    print(\"u:\")\n",
    "    print(u)\n",
    "    print(\"s:\")\n",
    "    print(s)\n",
    "    # reconstrsyuction = mean[None, :] + np.dot(pcas, v)\n",
    "    # print(data - reconstruction)\n",
    "    return vecs, amps"
   ]
  },
  {
   "cell_type": "code",
   "execution_count": 29,
   "metadata": {
    "collapsed": false
   },
   "outputs": [
    {
     "name": "stdout",
     "output_type": "stream",
     "text": [
      "u:\n",
      "[[-0.11972206  0.07545946  0.00399617 ... -0.08402431 -0.12443305\n",
      "  -0.00163341]\n",
      " [-0.1720701  -0.00692511 -0.02517542 ...  0.31709401  0.16419131\n",
      "   0.20710492]\n",
      " [-0.1232918   0.14384848 -0.08507783 ... -0.00782944 -0.01222713\n",
      "   0.01689098]\n",
      " ...\n",
      " [ 0.05647868 -0.13789729  0.09618253 ... -0.03588101  0.35131625\n",
      "   0.04009227]\n",
      " [-0.07870725  0.07091527  0.01423164 ...  0.23520733 -0.22121285\n",
      "   0.11068644]\n",
      " [ 0.01336922 -0.13674258  0.08302181 ...  0.04006808 -0.03611449\n",
      "   0.11088796]]\n",
      "s:\n",
      "[1.99180161 1.14191677 0.69511543 0.45122914 0.29381037 0.27355423\n",
      " 0.22767607 0.21168256 0.21054318 0.18103422 0.1674812  0.14939809\n",
      " 0.13413767 0.12942175 0.10720346 0.10411263 0.08834337 0.06596609\n",
      " 0.06286356 0.06191005 0.05500811 0.05175033 0.04453103 0.04083993\n",
      " 0.03657399 0.03496589 0.03054073 0.02724941 0.02518015 0.02402558\n",
      " 0.01982367 0.01667998 0.01370013]\n",
      "u:\n",
      "[[ 6.63607427e-02 -1.32731023e-02 -7.83160676e-02 ...  6.40351519e-02\n",
      "   2.09343974e-01  8.07833866e-02]\n",
      " [-2.63299425e-01  2.43055376e-01 -2.46122890e-01 ... -4.35230212e-02\n",
      "   1.02533703e-01  6.14766942e-05]\n",
      " [ 3.05317219e-02 -5.97116458e-02 -2.75743925e-01 ...  1.10334615e-01\n",
      "   2.90028736e-02  7.85822441e-02]\n",
      " ...\n",
      " [ 3.59744190e-02 -3.77914297e-02  2.87246856e-02 ... -2.90473226e-01\n",
      "   1.46951596e-01  9.47174247e-02]\n",
      " [-2.06947834e-03 -5.88244561e-02  2.51428407e-02 ...  5.09796070e-02\n",
      "  -2.38054554e-02 -1.12283396e-01]\n",
      " [ 1.50302145e-02 -1.17458933e-02 -4.57805052e-04 ...  2.86215683e-02\n",
      "   2.95139731e-02 -3.00572257e-02]]\n",
      "s:\n",
      "[0.23544574 0.19838318 0.1817399  0.16182746 0.15409341 0.13688782\n",
      " 0.12429926 0.12198893 0.1167387  0.10866506 0.1062537  0.10033485\n",
      " 0.09471919 0.09407105 0.08981373 0.0830975  0.07537039 0.07167653\n",
      " 0.06967204 0.05998574 0.05659647 0.05574515 0.05339484 0.04586461\n",
      " 0.04424987 0.04259491 0.0377906  0.03635952 0.0330976  0.03025624\n",
      " 0.02649638 0.02258663 0.01920473]\n"
     ]
    }
   ],
   "source": [
    "# run PCA on the data\n",
    "vecs, amps = pca(data)\n",
    "eigenvals = np.sum(amps * amps, axis=0)\n",
    "# run PCA on the random / fake data\n",
    "fvecs, famps = pca(data_fake)\n",
    "feigenvals = np.sum(famps * famps, axis=0)"
   ]
  },
  {
   "cell_type": "code",
   "execution_count": 32,
   "metadata": {
    "collapsed": false
   },
   "outputs": [
    {
     "data": {
      "image/png": "[encoded data removed]",
      "text/plain": [
       "<Figure size 432x288 with 1 Axes>"
      ]
     },
     "metadata": {},
     "output_type": "display_data"
    }
   ],
   "source": [
    "# compare data (black) and fake data (red) PCA amplitudes\n",
    "plt.scatter(np.arange(len(eigenvals)), eigenvals, color=\"k\")\n",
    "plt.scatter(np.arange(len(feigenvals)), feigenvals, color=\"r\")\n",
    "plt.semilogy()\n",
    "plt.ylim(0.0001, 10.)\n",
    "plt.grid(alpha=0.3)\n",
    "plt.savefig('eigenvals.png')"
   ]
  },
  {
   "cell_type": "code",
   "execution_count": 31,
   "metadata": {
    "collapsed": false
   },
   "outputs": [
    {
     "data": {
      "text/plain": [
       "((79, 33), (79, 33), (79, 33))"
      ]
     },
     "execution_count": 31,
     "metadata": {},
     "output_type": "execute_result"
    }
   ],
   "source": [
    "# make a RANDOM rotation of the DATA\n",
    "# that is, the real data, but rotated into a random basis\n",
    "data_rotated = np.dot((data - mean[None, :]), fvecs.T)\n",
    "data.shape, data_rotated.shape, data_fake.shape"
   ]
  },
  {
   "cell_type": "code",
   "execution_count": 13,
   "metadata": {
    "collapsed": true
   },
   "outputs": [],
   "source": [
    "# Make point properties\n",
    "cmap = cm.get_cmap(\"viridis\")\n",
    "colors = np.arange(N)[::-1]\n",
    "# Make other plot properties\n",
    "s = 5.\n",
    "alpha = 0.5\n",
    "foo = 2.5\n",
    "figsize = (8 * foo, 4 * foo)\n",
    "xlim = (-0.25, 0.45)"
   ]
  },
  {
   "cell_type": "code",
   "execution_count": 14,
   "metadata": {
    "collapsed": false
   },
   "outputs": [],
   "source": [
    "# plotting utility\n",
    "def plot_data(data, labels):\n",
    "    f, axlist = plt.subplots(4, 8, sharex=True, sharey=True, figsize=figsize)\n",
    "    for i, ax in enumerate(axlist.flatten()):\n",
    "        if (i + 1) >= D:\n",
    "            break\n",
    "        if i % 2:\n",
    "            j, k = i+1, i\n",
    "        else:\n",
    "            j, k = i, i+1\n",
    "        ax.scatter(data[:, j], data[:, k], s=s, c=colors, alpha=alpha, cmap=cmap)\n",
    "        ax.set_xlabel(labels[j])\n",
    "        ax.set_ylabel(labels[k])\n",
    "        ax.set_xlim(xlim)\n",
    "        ax.set_ylim(xlim)\n",
    "    f.subplots_adjust(hspace=0.15)\n",
    "    f.subplots_adjust(wspace=0.15)\n",
    "    return f"
   ]
  },
  {
   "cell_type": "code",
   "execution_count": 15,
   "metadata": {
    "collapsed": false
   },
   "outputs": [],
   "source": [
    "# Plot data in the natural coordinates\n",
    "f = plot_data(data - mean[None, :], labels)\n",
    "plt.savefig(\"natural.png\")\n",
    "plt.close(f)"
   ]
  },
  {
   "cell_type": "code",
   "execution_count": 16,
   "metadata": {
    "collapsed": false
   },
   "outputs": [],
   "source": [
    "# Plot data in the PCA coordinates\n",
    "pca_labels = np.asarray([\"eigen {}\".format(d) for d in range(D)])\n",
    "f = plot_data(amps, pca_labels)\n",
    "plt.savefig(\"pca.png\")\n",
    "plt.close(f)"
   ]
  },
  {
   "cell_type": "code",
   "execution_count": 17,
   "metadata": {
    "collapsed": false
   },
   "outputs": [],
   "source": [
    "# Plot data in randomly rotated coordinates\n",
    "rand_labels = np.asarray([\"random axis {}\".format(d) for d in range(D)])\n",
    "f = plot_data(data_rotated, rand_labels)\n",
    "plt.savefig(\"random.png\")\n",
    "plt.close(f)"
   ]
  },
  {
   "cell_type": "code",
   "execution_count": 77,
   "metadata": {},
   "outputs": [],
   "source": [
    "# Plot top eigenvectors\n",
    "element_order = np.arange(len(sp_names))\n",
    "for i in range(11):\n",
    "    f,ax = plt.subplots(1, figsize=(10,5))\n",
    "    ax.set_xticks(element_order)\n",
    "    ax.set_xticklabels(sp_names, fontdict={'fontsize':10}, rotation=35, va=\"center\", position=(0,-0.03))\n",
    "    ax.scatter(element_order, vecs[i])\n",
    "    ax.grid(True, alpha=0.3)\n",
    "    ax.set_title('Eigenvector {0}'.format(i))\n",
    "    f.savefig('vec{0}.png'.format(i))\n",
    "    plt.close(f)"
   ]
  },
  {
   "cell_type": "code",
   "execution_count": 18,
   "metadata": {
    "collapsed": true
   },
   "outputs": [],
   "source": [
    "def get_vectors(vec1, vec2, K):\n",
    "    \"\"\"\n",
    "    requires that vec1 and vec2 be perpendicular\n",
    "    \"\"\"\n",
    "    dot = np.dot(vec1, vec2)\n",
    "    vec2perp = vec2 - dot * vec1\n",
    "    theta_max = np.arccos(dot)\n",
    "    thetas = np.linspace(0., theta_max, K)\n",
    "    vecs = np.cos(thetas)[:, None] * vec1[None, :] + np.sin(thetas)[:, None] * vec2perp[None, :]\n",
    "    return vecs"
   ]
  },
  {
   "cell_type": "code",
   "execution_count": 19,
   "metadata": {
    "collapsed": false
   },
   "outputs": [
    {
     "name": "stdout",
     "output_type": "stream",
     "text": [
      "Using matplotlib backend: MacOSX\n"
     ]
    }
   ],
   "source": [
    "%matplotlib"
   ]
  },
  {
   "cell_type": "code",
   "execution_count": 19,
   "metadata": {
    "collapsed": false
   },
   "outputs": [
    {
     "data": {
      "text/plain": [
       "'\\nplt.ioff()\\nplotnum = 0\\nthisvecs = np.eye(D)\\nthislabels = np.asarray([\"\" for d in range(D)])\\nfor d in np.arange(D)[::-1]:\\n    v1 = np.zeros(D)\\n    v1[d] = 1\\n    v2 = vecs[d, :]\\n    rvecs = get_vectors(v1, v2, 8)\\n    for i, rvec in enumerate(rvecs):\\n        fn = \"{0:04d}.png\".format(plotnum)\\n        plotnum += 1\\n        thisvecs[d] = rvec\\n        thisdata = np.dot((data - mean[None, :]), thisvecs.T)\\n        thisdata.shape\\n        f = plot_data(thisdata, thislabels)\\n        plt.savefig(fn)\\n        plt.close(f)\\n'"
      ]
     },
     "execution_count": 19,
     "metadata": {},
     "output_type": "execute_result"
    }
   ],
   "source": [
    "\"\"\"\n",
    "plt.ioff()\n",
    "plotnum = 0\n",
    "thisvecs = np.eye(D)\n",
    "thislabels = np.asarray([\"\" for d in range(D)])\n",
    "for d in np.arange(D)[::-1]:\n",
    "    v1 = np.zeros(D)\n",
    "    v1[d] = 1\n",
    "    v2 = vecs[d, :]\n",
    "    rvecs = get_vectors(v1, v2, 8)\n",
    "    for i, rvec in enumerate(rvecs):\n",
    "        fn = \"{0:04d}.png\".format(plotnum)\n",
    "        plotnum += 1\n",
    "        thisvecs[d] = rvec\n",
    "        thisdata = np.dot((data - mean[None, :]), thisvecs.T)\n",
    "        thisdata.shape\n",
    "        f = plot_data(thisdata, thislabels)\n",
    "        plt.savefig(fn)\n",
    "        plt.close(f)\n",
    "\"\"\""
   ]
  },
  {
   "cell_type": "markdown",
   "metadata": {},
   "source": [
    "#### what is the range of Z in this sample?"
   ]
  },
  {
   "cell_type": "code",
   "execution_count": 54,
   "metadata": {},
   "outputs": [
    {
     "data": {
      "text/plain": [
       "array(['CI', 'CH', 'OI', 'NaI', 'MgI', 'AlI', 'SiI', 'SI', 'CaI', 'ScI',\n",
       "       'ScII', 'TiI', 'TiII', 'VI', 'CrI', 'CrII', 'MnI', 'CoI', 'NiI',\n",
       "       'CuI', 'ZnI', 'SrI', 'YII', 'ZrII', 'BaII', 'LaII', 'CeII', 'PrII',\n",
       "       'NdII', 'SmII', 'EuII', 'GdII', 'DyII'], dtype='<U4')"
      ]
     },
     "execution_count": 54,
     "metadata": {},
     "output_type": "execute_result"
    }
   ],
   "source": [
    "sp_names"
   ]
  },
  {
   "cell_type": "code",
   "execution_count": 61,
   "metadata": {},
   "outputs": [],
   "source": [
    "mask = ~np.isin(sp_names, ['CH','CrII','ScII','TiII'])\n",
    "sp_names_masked = sp_names[mask]\n",
    "sp_basenames = [s.strip('I') for s in sp_names_masked]"
   ]
  },
  {
   "cell_type": "code",
   "execution_count": 55,
   "metadata": {},
   "outputs": [],
   "source": [
    "import periodictable as pt\n",
    "atomicnumbers = [getattr(pt,s).mass for s in sp_basenames]"
   ]
  },
  {
   "cell_type": "code",
   "execution_count": null,
   "metadata": {},
   "outputs": [],
   "source": []
  },
  {
   "cell_type": "code",
   "execution_count": 50,
   "metadata": {},
   "outputs": [
    {
     "data": {
      "text/plain": [
       "[12.0107,\n",
       " 15.9994,\n",
       " 22.98977,\n",
       " 24.305,\n",
       " 26.981538,\n",
       " 28.0855,\n",
       " 32.065,\n",
       " 40.078,\n",
       " 44.95591,\n",
       " 47.867,\n",
       " 50.9415,\n",
       " 51.9961,\n",
       " 54.938049,\n",
       " 58.9332,\n",
       " 58.6934,\n",
       " 63.546,\n",
       " 65.409,\n",
       " 87.62,\n",
       " 88.90585,\n",
       " 91.224,\n",
       " 137.327,\n",
       " 138.9055,\n",
       " 140.116,\n",
       " 140.90765,\n",
       " 144.24,\n",
       " 150.36,\n",
       " 151.964,\n",
       " 157.25,\n",
       " 162.5]"
      ]
     },
     "execution_count": 50,
     "metadata": {},
     "output_type": "execute_result"
    }
   ],
   "source": [
    "from astropy import units as u\n",
    "def calc_Z(star):\n",
    "    starmass = star['mass'] * u.solmass\n",
    "    Zmasses = [10.**(star[s]) for i,s in enumerate(sp_names_masked)]\n",
    "    return np.sum(star[''])"
   ]
  },
  {
   "cell_type": "code",
   "execution_count": null,
   "metadata": {},
   "outputs": [],
   "source": []
  }
 ],
 "metadata": {
  "kernelspec": {
   "display_name": "Python 3",
   "language": "python",
   "name": "python3"
  },
  "language_info": {
   "codemirror_mode": {
    "name": "ipython",
    "version": 3
   },
   "file_extension": ".py",
   "mimetype": "text/x-python",
   "name": "python",
   "nbconvert_exporter": "python",
   "pygments_lexer": "ipython3",
   "version": "3.6.0"
  }
 },
 "nbformat": 4,
 "nbformat_minor": 2
}
